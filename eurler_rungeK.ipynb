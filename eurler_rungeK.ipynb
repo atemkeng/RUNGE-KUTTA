{
 "cells": [
  {
   "cell_type": "markdown",
   "metadata": {},
   "source": [
    "# Practical 1: Implementation in python of the Euler and Runge-Kutta approximation for solving numerical ODES"
   ]
  },
  {
   "cell_type": "code",
   "execution_count": 81,
   "metadata": {},
   "outputs": [
    {
     "name": "stdout",
     "output_type": "stream",
     "text": [
      "Populating the interactive namespace from numpy and matplotlib\n"
     ]
    }
   ],
   "source": [
    "import numpy as np # We will be using this numerical package called numpy\n",
    "import matplotlib.pyplot as plt\n",
    "%matplotlib inline\n",
    "\n",
    "\n",
    "def myEuler (f, a, b, h, x0):\n",
    "    n = int((b-a)/h)\n",
    "    x0 = x0\n",
    "    t0 = a\n",
    "\n",
    "    for i in range(1, n+1):\n",
    "        x1 = x0 + f(t0, x0)*h\n",
    "        x0 = x1\n",
    "        t0 = t0+h\n",
    "                \n",
    "        print(x1)\n",
    "       \n",
    "    return x1\n",
    "\n",
    "\n",
    "def myRungeKutta (f, a, b, h, x0):\n",
    "    n = int((b-a)/h)\n",
    "    x0 = x0;\n",
    "    t0 = a;\n",
    "    \n",
    "    for i in range(1, n+1):\n",
    "        k1 = h*f(t0, x0)\n",
    "        k2 = h*f(t0 + 0.5*h, x0 + 0.5*k1)\n",
    "        k3 = h*f(t0 + 0.5*h, x0 + 0.5*k2)\n",
    "        k4 = h*f(t0 + h, x0 + k3)\n",
    "        \n",
    "        x1 = x0 + (1/6.)*(k1 + 2*k2 + 2*k3 + k4)\n",
    "        \n",
    "        x0 = x1\n",
    "        t0 = t0+h\n",
    "        \n",
    "        print(x1)\n",
    "        \n",
    "    return x1"
   ]
  },
  {
   "cell_type": "code",
   "execution_count": 82,
   "metadata": {},
   "outputs": [
    {
     "name": "stdout",
     "output_type": "stream",
     "text": [
      "Euler method \n",
      "\n",
      "1.0\n",
      "0.8474965783174021\n",
      "0.630276100846516\n",
      "0.45084970982031936\n",
      "\n",
      " \n",
      " Runge-Kutta method\n",
      "\n",
      "0.9239105984018461\n",
      "0.7502240426784198\n",
      "0.5688906791259903\n",
      "0.44632726282672985\n"
     ]
    }
   ],
   "source": [
    "f = lambda t, x: t**2 - np.exp(x)*np.sin(t)\n",
    "\n",
    "print(\"Euler method \\n\")\n",
    "myEuler(f, 0, 1, 0.25, 1);\n",
    "\n",
    "print(\"\\n \\n Runge-Kutta method\\n\")\n",
    "myRungeKutta(f, 0, 1, 0.25, 1);"
   ]
  },
  {
   "cell_type": "markdown",
   "metadata": {},
   "source": [
    "# Practical 2\n",
    "\n",
    "The following shows the call to the function myRungeKutta and myEuler for equation:\n",
    "\n",
    "\\begin{equation}\n",
    " x'(t) = e^{t}\n",
    "\\end{equation}\n",
    "\n",
    "and compare the graph of the approximation solution comparing with the exact solution: \n",
    "\n",
    "\\begin{equation}\n",
    " x(t) = e^{t}.\n",
    "\\end{equation}\n",
    "\n",
    "$\\textbf{The Runge-Kutta provides much accurate result, and almost exact}.$"
   ]
  },
  {
   "cell_type": "code",
   "execution_count": 154,
   "metadata": {},
   "outputs": [
    {
     "data": {
      "image/png": "[encoded data removed]",
      "text/plain": [
       "<matplotlib.figure.Figure at 0x7fb24a31c490>"
      ]
     },
     "metadata": {},
     "output_type": "display_data"
    }
   ],
   "source": [
    "def myEuler (f, a, b, h, x0, x):\n",
    "    n = int((b-a)/h)\n",
    "    x0 = x0\n",
    "    t0 = a\n",
    "    \n",
    "    xaxis = t0*np.ones(n+1, dtype=np.float64)\n",
    "    approx_yaxis = x0*np.ones(n+1, dtype=np.float64)\n",
    "    true_yaxis = x(t0)*np.ones(n+1, dtype=np.float64)\n",
    "    \n",
    "    for i in range(1, n+1):\n",
    "        x1 = x0 + f(t0, x0)*h \n",
    "        x0 = x1\n",
    "        t0 = t0+h\n",
    "        xaxis[i] = t0\n",
    "        approx_yaxis[i] = x0\n",
    "        true_yaxis[i] = x(t0)\n",
    "       \n",
    "    return xaxis, approx_yaxis, true_yaxis\n",
    "\n",
    "\n",
    "def myRungeKutta (f, a, b, h, x0, x):\n",
    "    n = int((b-a)/h)\n",
    "    x0 = x0;\n",
    "    t0 = a;\n",
    "    \n",
    "    xaxis = t0*np.ones(n+1, dtype=np.float64)\n",
    "    approx_yaxis = x0*np.ones(n+1, dtype=np.float64)\n",
    "    true_yaxis = x(t0)*np.ones(n+1, dtype=np.float64)\n",
    "    \n",
    "    for i in range(1, n+1):\n",
    "        k1 = h*f(t0, x0)\n",
    "        k2 = h*f(t0 + 0.5*h, x0 + 0.5*k1)\n",
    "        k3 = h*f(t0 + 0.5*h, x0 + 0.5*k2)\n",
    "        k4 = h*f(t0 + h, x0 + k3)\n",
    "        \n",
    "        x1 = x0 + (1/6.)*(k1 + 2*k2 + 2*k3 + k4)\n",
    "        \n",
    "        x0 = x1\n",
    "        t0 = t0+h\n",
    "        \n",
    "        xaxis[i] = t0\n",
    "        approx_yaxis[i] = x0\n",
    "        true_yaxis[i] = x(t0)\n",
    "        \n",
    "        \n",
    "    return xaxis, approx_yaxis, true_yaxis\n",
    "\n",
    "\n",
    "\n",
    "\n",
    "\n",
    "\n",
    "f = lambda t, x: np.exp(t)#t**2*x + t**2*np.sin(t**3)\n",
    "x = lambda t: np.exp(t)#(-3/10.)*np.cos(t**3)-(1/10.)*np.sin(t**3)+(3/10.)*np.exp((1/10.)*t**3)+1\n",
    "\n",
    "xaxis_eu, approx_yaxis_eu, true_yaxis_eu= myEuler(f, 0, 1, 0.1, 1, x)\n",
    "xaxis_rk, approx_yaxis_rk, true_yaxis_rk = myRungeKutta(f, 0, 1, 0.1, 1, x)\n",
    "\n",
    "#print (true_yaxis_rk, true_yaxis_eu)\n",
    "plt.figure(figsize=(10,7))\n",
    "#plt.subplot(211)\n",
    "plt.plot(xaxis_eu, approx_yaxis_eu, 'b-+', label=\"Euler\")\n",
    "plt.plot(xaxis_eu, approx_yaxis_rk, 'r-o', label=\"Runge-Kutta\")\n",
    "plt.plot(xaxis_eu, true_yaxis_rk, 'k-*', label=\"Exact\")\n",
    "\n",
    "\n",
    "#plt.subplot(212)\n",
    "#plt.plot(xaxis_eu, np.abs(true_yaxis_rk-approx_yaxis_eu), 'b', label=\"Error for Euler\")\n",
    "#plt.plot(xaxis_eu, np.abs(true_yaxis_rk-approx_yaxis_rk), 'r', label=\"Error for RK\")\n",
    "plt.legend(loc='best')\n",
    "plt.show()"
   ]
  },
  {
   "cell_type": "code",
   "execution_count": null,
   "metadata": {},
   "outputs": [],
   "source": []
  },
  {
   "cell_type": "code",
   "execution_count": null,
   "metadata": {},
   "outputs": [],
   "source": []
  },
  {
   "cell_type": "code",
   "execution_count": null,
   "metadata": {},
   "outputs": [],
   "source": []
  }
 ],
 "metadata": {
  "kernelspec": {
   "display_name": "Python 2",
   "language": "python",
   "name": "python2"
  },
  "language_info": {
   "codemirror_mode": {
    "name": "ipython",
    "version": 2
   },
   "file_extension": ".py",
   "mimetype": "text/x-python",
   "name": "python",
   "nbconvert_exporter": "python",
   "pygments_lexer": "ipython2",
   "version": "2.7.6"
  }
 },
 "nbformat": 4,
 "nbformat_minor": 2
}
